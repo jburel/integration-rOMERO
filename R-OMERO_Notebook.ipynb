{
 "cells": [
  {
   "cell_type": "markdown",
   "metadata": {},
   "source": [
    "### rOMERO-gateway Overview\n",
    "![Overview](romero_overview.png)"
   ]
  },
  {
   "cell_type": "markdown",
   "metadata": {},
   "source": [
    "### Load rOMERO-gateway"
   ]
  },
  {
   "cell_type": "code",
   "execution_count": null,
   "metadata": {},
   "outputs": [],
   "source": [
    "options(warn=-1)\n",
    "library(romero.gateway)"
   ]
  },
  {
   "cell_type": "markdown",
   "metadata": {},
   "source": [
    "### Connect to the server"
   ]
  },
  {
   "cell_type": "code",
   "execution_count": null,
   "metadata": {},
   "outputs": [],
   "source": [
    "user_name = readline('Username: ')\n",
    "user_password <- getPass::getPass('OMERO password: ')\n",
    "server <- OMEROServer(host = 'outreach.openmicroscopy.org', username=user_name, password=user_password, port= as.integer(4064))\n",
    "server <- connect(server)\n",
    "paste('Successfully logged in as', server@user$getUserName())"
   ]
  },
  {
   "cell_type": "markdown",
   "metadata": {},
   "source": [
    "## Read Data from OMERO"
   ]
  },
  {
   "cell_type": "markdown",
   "metadata": {},
   "source": [
    "### OMERO dataset and Annotation details\n",
    "Please fill in the datasetId for the dataset named 'CellProfiler images'"
   ]
  },
  {
   "cell_type": "code",
   "execution_count": null,
   "metadata": {},
   "outputs": [],
   "source": [
    "datasetId <- 1076\n",
    "fileName <- 'Cells.csv'"
   ]
  },
  {
   "cell_type": "markdown",
   "metadata": {},
   "source": [
    "### Find the dataset and get the attachment"
   ]
  },
  {
   "cell_type": "code",
   "execution_count": null,
   "metadata": {},
   "outputs": [],
   "source": [
    "omeDataset <- loadObject(server, 'DatasetData', datasetId)\n",
    "print(paste('Dataset ID:',omeDataset@dataobject$getId()))\n",
    "\n",
    "# Find the attached csv file\n",
    "fileAnnotation <- getAnnotations(server, 'DatasetData', getOMEROID(omeDataset), nameFilter = fileName)\n",
    "annotationFileID = as.integer(fileAnnotation$FileID)\n",
    "annotationFileID <- annotationFileID[[length(annotationFileID)]]\n",
    "print(paste('Annotation ID:', annotationFileID))\n",
    "\n",
    "# Get Image Names\n",
    "images <- getImages(omeDataset)\n",
    "image_names <- c()\n",
    "for (image in images){\n",
    "    image_names <- c(image_names, image@dataobject$getName())\n",
    "}"
   ]
  },
  {
   "cell_type": "markdown",
   "metadata": {},
   "source": [
    "### Load annotation as a R-Dataframe and compare cell areas between the two sets of images"
   ]
  },
  {
   "cell_type": "code",
   "execution_count": null,
   "metadata": {},
   "outputs": [],
   "source": [
    "df <- loadCSV(server, annotationFileID)\n",
    "dfLength <- subset(df, select=c(\"ImageNumber\", \"AreaShape_Area\"))\n",
    "boxplot(dfLength$AreaShape_Area~dfLength$ImageNumber)"
   ]
  },
  {
   "cell_type": "code",
   "execution_count": null,
   "metadata": {},
   "outputs": [],
   "source": [
    "Areas = subset(dfLength, dfLength$ImageNumber == image_names[[1]])$AreaShape_Area\n",
    "hist(Areas, main = paste(\"Frequency Histogram of Cellular Areas:\",image_names[[1]]))"
   ]
  },
  {
   "cell_type": "code",
   "execution_count": null,
   "metadata": {},
   "outputs": [],
   "source": [
    "Areas = subset(dfLength, dfLength$ImageNumber == image_names[[2]])$AreaShape_Area\n",
    "hist(Areas, main = paste(\"Frequency Histogram of Cellular Areas:\",image_names[[2]]))"
   ]
  },
  {
   "cell_type": "markdown",
   "metadata": {},
   "source": [
    "## Save Results back to OMERO"
   ]
  },
  {
   "cell_type": "markdown",
   "metadata": {},
   "source": [
    "### Attach the plot to an OMERO dataset "
   ]
  },
  {
   "cell_type": "code",
   "execution_count": null,
   "metadata": {},
   "outputs": [],
   "source": [
    "# Attach the plot to the dataset\n",
    "tmpfile <- \"/tmp/boxplot.png\"\n",
    "png(tmpfile)\n",
    "boxplot(dfLength$AreaShape_Area~dfLength$ImageNumber)\n",
    "dev.off()\n",
    "omero_attach_plot <- attachFile(omeDataset, tmpfile)\n",
    "\n",
    "print(paste(\"OMERO File Annotation ID:\", omero_attach_plot@dataobject$getId()))"
   ]
  },
  {
   "cell_type": "markdown",
   "metadata": {},
   "source": [
    "### Attach the t-test output to the dataset"
   ]
  },
  {
   "cell_type": "code",
   "execution_count": null,
   "metadata": {},
   "outputs": [],
   "source": [
    "Areas_2 <- subset(dfLength, dfLength$ImageNumber == image_names[[1]] | dfLength$ImageNumber == image_names[[2]])\n",
    "\n",
    "t.test(Areas_2$AreaShape_Area~Areas_2$ImageNumber)\n",
    "tmpfile <- \"/tmp/t_test_summary.txt\"\n",
    "cat(\"Here are my results:\\n\", file=tmpfile)\n",
    "capture.output(t.test(Areas_2$AreaShape_Area~Areas_2$ImageNumber), file=tmpfile, append=TRUE)\n",
    "omero_attach_file <- attachFile(omeDataset, tmpfile)\n",
    "\n",
    "print(paste(\"OMERO File Annotation ID:\", omero_attach_file@dataobject$getId()))"
   ]
  },
  {
   "cell_type": "markdown",
   "metadata": {},
   "source": [
    "### Disconnect OMERO session"
   ]
  },
  {
   "cell_type": "code",
   "execution_count": null,
   "metadata": {},
   "outputs": [],
   "source": [
    "server_disconnect <- disconnect(server)"
   ]
  },
  {
   "cell_type": "code",
   "execution_count": null,
   "metadata": {},
   "outputs": [],
   "source": []
  }
 ],
 "metadata": {
  "kernelspec": {
   "display_name": "R",
   "language": "R",
   "name": "ir"
  },
  "language_info": {
   "codemirror_mode": "r",
   "file_extension": ".r",
   "mimetype": "text/x-r-source",
   "name": "R",
   "pygments_lexer": "r",
   "version": "3.4.1"
  }
 },
 "nbformat": 4,
 "nbformat_minor": 2
}
